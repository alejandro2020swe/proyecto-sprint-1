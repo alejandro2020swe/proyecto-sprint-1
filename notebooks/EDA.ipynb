{
 "cells": [
  {
   "cell_type": "code",
   "execution_count": 4,
   "metadata": {},
   "outputs": [],
   "source": [
    "import pandas as pd\n",
    "import plotly.express as px\n",
    "import streamlit as st"
   ]
  },
  {
   "cell_type": "code",
   "execution_count": null,
   "metadata": {},
   "outputs": [],
   "source": [
    "df = pd.read_csv('corazon.csv')\n",
    "\n",
    "# Configurar la aplicación Streamlit\n",
    "st.title('Análisis de Datos de Enfermedades Cardíacas')\n",
    "st.write('Esta aplicación analiza datos de enfermedades cardíacas.')\n",
    "\n",
    "st.image('cora.jpg', use_column_width=True)\n",
    "\n",
    "\n",
    "# Mostrar un encabezado con texto\n",
    "st.header('Datos de la Enfermedad Cardíaca')\n",
    "\n",
    "# Mostrar una descripción breve\n",
    "st.write('Los datos contienen información sobre pacientes con enfermedades cardíacas.')\n",
    "\n",
    "\n",
    "\n",
    "# Botón para abrir el histograma de edad\n",
    "if st.button('Ver Histograma de Edad'):\n",
    "    st.subheader('Histograma de Edad')\n",
    "    fig_hist = px.histogram(df, x='Age', color='Sex', title='Distribución de Edad por Género')\n",
    "    st.plotly_chart(fig_hist)\n",
    "\n",
    "# Botón para abrir el gráfico de dispersión de colesterol vs. presión arterial en reposo\n",
    "if st.button('Ver Gráfico de Dispersión de Colesterol vs. Presión Arterial en Reposo'):\n",
    "    st.subheader('Gráfico de Dispersión de Colesterol vs. Presión Arterial en Reposo')\n",
    "    fig_scatter = px.scatter(df, x='RestingBP', y='Cholesterol', color='ChestPainType', title='Colesterol vs. Presión Arterial en Reposo por Tipo de Dolor de Pecho')\n",
    "    st.plotly_chart(fig_scatter)\n",
    "\n",
    "# Botón para mostrar/ocultar los datos detallados\n",
    "if st.checkbox('Mostrar/Ocultar Datos'):\n",
    "    st.subheader('Datos Detallados')\n",
    "    st.write(df)\n"
   ]
  }
 ],
 "metadata": {
  "kernelspec": {
   "display_name": "base",
   "language": "python",
   "name": "python3"
  },
  "language_info": {
   "codemirror_mode": {
    "name": "ipython",
    "version": 3
   },
   "file_extension": ".py",
   "mimetype": "text/x-python",
   "name": "python",
   "nbconvert_exporter": "python",
   "pygments_lexer": "ipython3",
   "version": "3.11.5"
  }
 },
 "nbformat": 4,
 "nbformat_minor": 2
}
